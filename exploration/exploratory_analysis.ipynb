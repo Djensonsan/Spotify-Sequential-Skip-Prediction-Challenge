{
 "cells": [
  {
   "cell_type": "markdown",
   "metadata": {},
   "source": [
    "# Feature Selection & Engineering"
   ]
  },
  {
   "cell_type": "code",
   "execution_count": 21,
   "outputs": [
    {
     "name": "stdout",
     "output_type": "stream",
     "text": [
      "Requirement already satisfied: seaborn in /Users/jenselin/miniconda3/envs/Tensorflow/lib/python3.7/site-packages (0.11.0)\r\n",
      "Requirement already satisfied: pandas>=0.23 in /Users/jenselin/miniconda3/envs/Tensorflow/lib/python3.7/site-packages (from seaborn) (1.1.3)\r\n",
      "Requirement already satisfied: numpy>=1.15 in /Users/jenselin/miniconda3/envs/Tensorflow/lib/python3.7/site-packages (from seaborn) (1.19.1)\r\n",
      "Requirement already satisfied: scipy>=1.0 in /Users/jenselin/miniconda3/envs/Tensorflow/lib/python3.7/site-packages (from seaborn) (1.5.2)\r\n",
      "Requirement already satisfied: matplotlib>=2.2 in /Users/jenselin/miniconda3/envs/Tensorflow/lib/python3.7/site-packages (from seaborn) (3.3.1)\r\n",
      "Requirement already satisfied: pytz>=2017.2 in /Users/jenselin/miniconda3/envs/Tensorflow/lib/python3.7/site-packages (from pandas>=0.23->seaborn) (2020.1)\r\n",
      "Requirement already satisfied: python-dateutil>=2.7.3 in /Users/jenselin/miniconda3/envs/Tensorflow/lib/python3.7/site-packages (from pandas>=0.23->seaborn) (2.8.1)\r\n",
      "Requirement already satisfied: certifi>=2020.06.20 in /Users/jenselin/miniconda3/envs/Tensorflow/lib/python3.7/site-packages (from matplotlib>=2.2->seaborn) (2020.6.20)\r\n",
      "Requirement already satisfied: kiwisolver>=1.0.1 in /Users/jenselin/miniconda3/envs/Tensorflow/lib/python3.7/site-packages (from matplotlib>=2.2->seaborn) (1.2.0)\r\n",
      "Requirement already satisfied: cycler>=0.10 in /Users/jenselin/miniconda3/envs/Tensorflow/lib/python3.7/site-packages (from matplotlib>=2.2->seaborn) (0.10.0)\r\n",
      "Requirement already satisfied: pillow>=6.2.0 in /Users/jenselin/miniconda3/envs/Tensorflow/lib/python3.7/site-packages (from matplotlib>=2.2->seaborn) (8.0.0)\r\n",
      "Requirement already satisfied: pyparsing!=2.0.4,!=2.1.2,!=2.1.6,>=2.0.3 in /Users/jenselin/miniconda3/envs/Tensorflow/lib/python3.7/site-packages (from matplotlib>=2.2->seaborn) (2.4.7)\r\n",
      "Requirement already satisfied: six>=1.5 in /Users/jenselin/miniconda3/envs/Tensorflow/lib/python3.7/site-packages (from python-dateutil>=2.7.3->pandas>=0.23->seaborn) (1.15.0)\r\n"
     ]
    }
   ],
   "source": [
    "# Install your required packages here\n",
    "!pip install seaborn"
   ],
   "metadata": {
    "collapsed": false,
    "pycharm": {
     "name": "#%%\n"
    }
   }
  },
  {
   "cell_type": "code",
   "execution_count": null,
   "outputs": [],
   "source": [
    "import pandas as pd\n",
    "import matplotlib.pyplot as plt\n",
    "import seaborn as sn\n",
    "import numpy as np\n",
    "from sklearn.decomposition import PCA\n",
    "from sklearn.preprocessing import StandardScaler\n",
    "from sklearn.pipeline import Pipeline\n",
    "\n",
    "pd.set_option('display.max_rows', 800)\n",
    "pd.set_option('display.max_columns', 800)"
   ],
   "metadata": {
    "collapsed": false,
    "pycharm": {
     "name": "#%%\n"
    }
   }
  },
  {
   "cell_type": "markdown",
   "source": [
    "## Load Data"
   ],
   "metadata": {
    "collapsed": false
   }
  },
  {
   "cell_type": "code",
   "execution_count": null,
   "outputs": [],
   "source": [
    "df_logs = pd.read_csv('../data/mini/log_mini.csv')\n",
    "df_features = pd.read_csv('../data/mini/tf_mini.csv').set_index('track_id')"
   ],
   "metadata": {
    "collapsed": false,
    "pycharm": {
     "name": "#%%\n"
    }
   }
  },
  {
   "cell_type": "markdown",
   "source": [
    "## Load Data"
   ],
   "metadata": {
    "collapsed": false
   }
  },
  {
   "cell_type": "code",
   "execution_count": 22,
   "metadata": {},
   "outputs": [],
   "source": [
    "df_logs = pd.read_csv('../data/mini/log_mini.csv')\n",
    "df_features = pd.read_csv('../data/mini/tf_mini.csv').set_index('track_id')"
   ]
  },
  {
   "cell_type": "markdown",
   "metadata": {},
   "source": [
    "## Load Data"
   ]
  },
  {
   "cell_type": "code",
   "execution_count": 23,
   "metadata": {},
   "outputs": [],
   "source": [
    "df_logs = pd.read_csv('../data/mini/log_mini.csv')\n",
    "df_features = pd.read_csv('../data/mini/tf_mini.csv').set_index('track_id')"
   ]
  },
  {
   "cell_type": "markdown",
   "metadata": {},
   "source": [
    "## Data Preparation"
   ]
  },
  {
   "cell_type": "code",
   "execution_count": 24,
   "metadata": {},
   "outputs": [],
   "source": [
    "df_features = pd.get_dummies(data=df_features, columns=['mode'])\n",
    "# Join track features and logs\n",
    "data = df_logs.join(df_features, on='track_id_clean', how='left')\n",
    "data.drop(columns=['date'], inplace=True)"
   ]
  },
  {
   "cell_type": "code",
   "execution_count": 25,
   "metadata": {},
   "outputs": [
    {
     "data": {
      "text/plain": "session_id                          object\nsession_position                     int64\nsession_length                       int64\ntrack_id_clean                      object\nskip_1                                bool\nskip_2                                bool\nskip_3                                bool\nnot_skipped                           bool\ncontext_switch                       int64\nno_pause_before_play                 int64\nshort_pause_before_play              int64\nlong_pause_before_play               int64\nhist_user_behavior_n_seekfwd         int64\nhist_user_behavior_n_seekback        int64\nhist_user_behavior_is_shuffle         bool\nhour_of_day                          int64\npremium                               bool\ncontext_type                        object\nhist_user_behavior_reason_start     object\nhist_user_behavior_reason_end       object\nduration                           float64\nrelease_year                         int64\nus_popularity_estimate             float64\nacousticness                       float64\nbeat_strength                      float64\nbounciness                         float64\ndanceability                       float64\ndyn_range_mean                     float64\nenergy                             float64\nflatness                           float64\ninstrumentalness                   float64\nkey                                  int64\nliveness                           float64\nloudness                           float64\nmechanism                          float64\norganism                           float64\nspeechiness                        float64\ntempo                              float64\ntime_signature                       int64\nvalence                            float64\nacoustic_vector_0                  float64\nacoustic_vector_1                  float64\nacoustic_vector_2                  float64\nacoustic_vector_3                  float64\nacoustic_vector_4                  float64\nacoustic_vector_5                  float64\nacoustic_vector_6                  float64\nacoustic_vector_7                  float64\nmode_major                           uint8\nmode_minor                           uint8\ndtype: object"
     },
     "execution_count": 25,
     "metadata": {},
     "output_type": "execute_result"
    }
   ],
   "source": [
    "data.dtypes"
   ]
  },
  {
   "cell_type": "code",
   "execution_count": 26,
   "metadata": {},
   "outputs": [
    {
     "data": {
      "text/plain": "session_position                    int64\nsession_length                      int64\nsession_id                         object\ntrack_id_clean                     object\nskip_1                               bool\nskip_2                               bool\nskip_3                               bool\nnot_skipped                          bool\nhist_user_behavior_is_shuffle        bool\npremium                              bool\ncontext_type                       object\nhist_user_behavior_reason_start    object\nhist_user_behavior_reason_end      object\nmode_major                          uint8\nmode_minor                          uint8\ndtype: object"
     },
     "execution_count": 26,
     "metadata": {},
     "output_type": "execute_result"
    }
   ],
   "source": [
    "# Remove all non-categorical data\n",
    "data_cat = data.select_dtypes(exclude=['int64', 'float64'])\n",
    "# merge session_position, session_length\n",
    "data_cat = pd.merge(data[['session_position', 'session_length']], data_cat, left_index=True, right_index=True)\n",
    "# drop skip_1 and skip_3?\n",
    "data_cat.dtypes"
   ]
  },
  {
   "cell_type": "code",
   "execution_count": 27,
   "metadata": {},
   "outputs": [
    {
     "data": {
      "text/plain": "(167880, 15)"
     },
     "execution_count": 27,
     "metadata": {},
     "output_type": "execute_result"
    }
   ],
   "source": [
    "data_cat.shape"
   ]
  },
  {
   "cell_type": "code",
   "execution_count": 28,
   "metadata": {},
   "outputs": [
    {
     "data": {
      "text/plain": "session_position                   int64\nsession_length                     int64\ncontext_switch                     int64\nno_pause_before_play               int64\nshort_pause_before_play            int64\nlong_pause_before_play             int64\nhist_user_behavior_n_seekfwd       int64\nhist_user_behavior_n_seekback      int64\nhour_of_day                        int64\nduration                         float64\nrelease_year                       int64\nus_popularity_estimate           float64\nacousticness                     float64\nbeat_strength                    float64\nbounciness                       float64\ndanceability                     float64\ndyn_range_mean                   float64\nenergy                           float64\nflatness                         float64\ninstrumentalness                 float64\nkey                                int64\nliveness                         float64\nloudness                         float64\nmechanism                        float64\norganism                         float64\nspeechiness                      float64\ntempo                            float64\ntime_signature                     int64\nvalence                          float64\nacoustic_vector_0                float64\nacoustic_vector_1                float64\nacoustic_vector_2                float64\nacoustic_vector_3                float64\nacoustic_vector_4                float64\nacoustic_vector_5                float64\nacoustic_vector_6                float64\nacoustic_vector_7                float64\nmode_major                         uint8\nmode_minor                         uint8\ndtype: object"
     },
     "execution_count": 28,
     "metadata": {},
     "output_type": "execute_result"
    }
   ],
   "source": [
    "# Remove all categorical data\n",
    "data_no_cat = data.select_dtypes(exclude=['object', 'bool'])\n",
    "data_no_cat.dtypes"
   ]
  },
  {
   "cell_type": "code",
   "execution_count": 29,
   "metadata": {},
   "outputs": [
    {
     "data": {
      "text/plain": "(167880, 39)"
     },
     "execution_count": 29,
     "metadata": {},
     "output_type": "execute_result"
    }
   ],
   "source": [
    "data_no_cat.shape"
   ]
  },
  {
   "cell_type": "code",
   "execution_count": 30,
   "metadata": {},
   "outputs": [],
   "source": [
    "# Pipeline Declaration\n",
    "pipe = Pipeline([('scaler', StandardScaler()),\n",
    "                ('reducer', PCA(n_components=0.3))])"
   ]
  },
  {
   "cell_type": "markdown",
   "metadata": {},
   "source": [
    "## Feature Engineering"
   ]
  },
  {
   "cell_type": "markdown",
   "metadata": {},
   "source": [
    "## PCA"
   ]
  },
  {
   "cell_type": "code",
   "execution_count": 31,
   "metadata": {},
   "outputs": [],
   "source": [
    "data_PC = pipe.fit_transform(data_no_cat)"
   ]
  },
  {
   "cell_type": "code",
   "execution_count": 32,
   "metadata": {},
   "outputs": [
    {
     "data": {
      "text/plain": "3"
     },
     "execution_count": 32,
     "metadata": {},
     "output_type": "execute_result"
    }
   ],
   "source": [
    "# Amount of components needed to get to 90% variance explained\n",
    "# 37 features in original dataset (merge of logs and features)\n",
    "components = pipe.steps[1][1].components_\n",
    "len(components)"
   ]
  },
  {
   "cell_type": "code",
   "execution_count": 33,
   "metadata": {},
   "outputs": [
    {
     "data": {
      "text/plain": "<Figure size 432x288 with 1 Axes>",
      "image/png": "[encoded data removed]"
     },
     "metadata": {
      "needs_background": "light"
     },
     "output_type": "display_data"
    }
   ],
   "source": [
    "# Variance explained per index plot\n",
    "var = pipe.steps[1][1].explained_variance_ratio_\n",
    "plt.plot(var)\n",
    "plt.axis([0, 10, 0.0, 0.2])\n",
    "plt.xlabel('PC Index')\n",
    "plt.ylabel('Explained Variance Ratio')\n",
    "plt.show()"
   ]
  },
  {
   "cell_type": "code",
   "execution_count": 34,
   "metadata": {},
   "outputs": [
    {
     "data": {
      "text/plain": "array([0.16928249, 0.26740199, 0.33637288])"
     },
     "execution_count": 34,
     "metadata": {},
     "output_type": "execute_result"
    }
   ],
   "source": [
    "# Variance explained cummulative sum\n",
    "pipe.steps[1][1].explained_variance_ratio_.cumsum()"
   ]
  },
  {
   "cell_type": "code",
   "execution_count": 35,
   "metadata": {},
   "outputs": [
    {
     "data": {
      "text/plain": "(167880, 3)"
     },
     "execution_count": 35,
     "metadata": {},
     "output_type": "execute_result"
    }
   ],
   "source": [
    "data_PC.shape"
   ]
  },
  {
   "cell_type": "code",
   "execution_count": 36,
   "metadata": {},
   "outputs": [],
   "source": [
    "data_PC = pd.DataFrame(data_PC)"
   ]
  },
  {
   "cell_type": "code",
   "execution_count": 37,
   "metadata": {},
   "outputs": [
    {
     "data": {
      "text/plain": "   session_position  session_length                              session_id  \\\n0                 1              20  0_00006f66-33e5-4de7-a324-2d18e439fc1e   \n1                 2              20  0_00006f66-33e5-4de7-a324-2d18e439fc1e   \n2                 3              20  0_00006f66-33e5-4de7-a324-2d18e439fc1e   \n3                 4              20  0_00006f66-33e5-4de7-a324-2d18e439fc1e   \n4                 5              20  0_00006f66-33e5-4de7-a324-2d18e439fc1e   \n\n                           track_id_clean  skip_1  skip_2  skip_3  \\\n0  t_0479f24c-27d2-46d6-a00c-7ec928f2b539   False   False   False   \n1  t_9099cd7b-c238-47b7-9381-f23f2c1d1043   False   False   False   \n2  t_fc5df5ba-5396-49a7-8b29-35d0d28249e0   False   False   False   \n3  t_23cff8d6-d874-4b20-83dc-94e450e8aa20   False   False   False   \n4  t_64f3743c-f624-46bb-a579-0f3f9a07a123   False   False   False   \n\n   not_skipped  hist_user_behavior_is_shuffle  premium        context_type  \\\n0         True                           True     True  editorial_playlist   \n1         True                           True     True  editorial_playlist   \n2         True                           True     True  editorial_playlist   \n3         True                           True     True  editorial_playlist   \n4         True                           True     True  editorial_playlist   \n\n  hist_user_behavior_reason_start hist_user_behavior_reason_end  mode_major  \\\n0                       trackdone                     trackdone           1   \n1                       trackdone                     trackdone           0   \n2                       trackdone                     trackdone           1   \n3                       trackdone                     trackdone           1   \n4                       trackdone                     trackdone           1   \n\n   mode_minor         0         1         2  \n0           0 -0.084801 -0.642602  0.181692  \n1           1 -2.704207 -1.271917 -0.857436  \n2           0 -0.591955 -0.671749 -0.928603  \n3           0 -1.466513  1.423567 -0.763585  \n4           0 -3.138003 -0.399707 -0.431176  ",
      "text/html": "<div>\n<style scoped>\n    .dataframe tbody tr th:only-of-type {\n        vertical-align: middle;\n    }\n\n    .dataframe tbody tr th {\n        vertical-align: top;\n    }\n\n    .dataframe thead th {\n        text-align: right;\n    }\n</style>\n<table border=\"1\" class=\"dataframe\">\n  <thead>\n    <tr style=\"text-align: right;\">\n      <th></th>\n      <th>session_position</th>\n      <th>session_length</th>\n      <th>session_id</th>\n      <th>track_id_clean</th>\n      <th>skip_1</th>\n      <th>skip_2</th>\n      <th>skip_3</th>\n      <th>not_skipped</th>\n      <th>hist_user_behavior_is_shuffle</th>\n      <th>premium</th>\n      <th>context_type</th>\n      <th>hist_user_behavior_reason_start</th>\n      <th>hist_user_behavior_reason_end</th>\n      <th>mode_major</th>\n      <th>mode_minor</th>\n      <th>0</th>\n      <th>1</th>\n      <th>2</th>\n    </tr>\n  </thead>\n  <tbody>\n    <tr>\n      <th>0</th>\n      <td>1</td>\n      <td>20</td>\n      <td>0_00006f66-33e5-4de7-a324-2d18e439fc1e</td>\n      <td>t_0479f24c-27d2-46d6-a00c-7ec928f2b539</td>\n      <td>False</td>\n      <td>False</td>\n      <td>False</td>\n      <td>True</td>\n      <td>True</td>\n      <td>True</td>\n      <td>editorial_playlist</td>\n      <td>trackdone</td>\n      <td>trackdone</td>\n      <td>1</td>\n      <td>0</td>\n      <td>-0.084801</td>\n      <td>-0.642602</td>\n      <td>0.181692</td>\n    </tr>\n    <tr>\n      <th>1</th>\n      <td>2</td>\n      <td>20</td>\n      <td>0_00006f66-33e5-4de7-a324-2d18e439fc1e</td>\n      <td>t_9099cd7b-c238-47b7-9381-f23f2c1d1043</td>\n      <td>False</td>\n      <td>False</td>\n      <td>False</td>\n      <td>True</td>\n      <td>True</td>\n      <td>True</td>\n      <td>editorial_playlist</td>\n      <td>trackdone</td>\n      <td>trackdone</td>\n      <td>0</td>\n      <td>1</td>\n      <td>-2.704207</td>\n      <td>-1.271917</td>\n      <td>-0.857436</td>\n    </tr>\n    <tr>\n      <th>2</th>\n      <td>3</td>\n      <td>20</td>\n      <td>0_00006f66-33e5-4de7-a324-2d18e439fc1e</td>\n      <td>t_fc5df5ba-5396-49a7-8b29-35d0d28249e0</td>\n      <td>False</td>\n      <td>False</td>\n      <td>False</td>\n      <td>True</td>\n      <td>True</td>\n      <td>True</td>\n      <td>editorial_playlist</td>\n      <td>trackdone</td>\n      <td>trackdone</td>\n      <td>1</td>\n      <td>0</td>\n      <td>-0.591955</td>\n      <td>-0.671749</td>\n      <td>-0.928603</td>\n    </tr>\n    <tr>\n      <th>3</th>\n      <td>4</td>\n      <td>20</td>\n      <td>0_00006f66-33e5-4de7-a324-2d18e439fc1e</td>\n      <td>t_23cff8d6-d874-4b20-83dc-94e450e8aa20</td>\n      <td>False</td>\n      <td>False</td>\n      <td>False</td>\n      <td>True</td>\n      <td>True</td>\n      <td>True</td>\n      <td>editorial_playlist</td>\n      <td>trackdone</td>\n      <td>trackdone</td>\n      <td>1</td>\n      <td>0</td>\n      <td>-1.466513</td>\n      <td>1.423567</td>\n      <td>-0.763585</td>\n    </tr>\n    <tr>\n      <th>4</th>\n      <td>5</td>\n      <td>20</td>\n      <td>0_00006f66-33e5-4de7-a324-2d18e439fc1e</td>\n      <td>t_64f3743c-f624-46bb-a579-0f3f9a07a123</td>\n      <td>False</td>\n      <td>False</td>\n      <td>False</td>\n      <td>True</td>\n      <td>True</td>\n      <td>True</td>\n      <td>editorial_playlist</td>\n      <td>trackdone</td>\n      <td>trackdone</td>\n      <td>1</td>\n      <td>0</td>\n      <td>-3.138003</td>\n      <td>-0.399707</td>\n      <td>-0.431176</td>\n    </tr>\n  </tbody>\n</table>\n</div>"
     },
     "execution_count": 37,
     "metadata": {},
     "output_type": "execute_result"
    }
   ],
   "source": [
    "# Re-joining the categorical features with the PC dataframe\n",
    "data = pd.merge(data_cat, data_PC, left_index=True, right_index=True)\n",
    "data.head()"
   ]
  },
  {
   "cell_type": "code",
   "execution_count": 38,
   "metadata": {},
   "outputs": [
    {
     "data": {
      "text/plain": "<AxesSubplot:xlabel='0', ylabel='1'>"
     },
     "execution_count": 38,
     "metadata": {},
     "output_type": "execute_result"
    },
    {
     "data": {
      "text/plain": "<Figure size 432x288 with 1 Axes>",
      "image/png": "[encoded data removed]"
     },
     "metadata": {
      "needs_background": "light"
     },
     "output_type": "display_data"
    }
   ],
   "source": [
    "# Plot of PC1/PC2 and Skip_2 \n",
    "# No clear correlation between skip_2 and PC1/PC2\n",
    "sn.scatterplot(data=data, x=data[0], y=data[1], hue='skip_2', alpha=0.05)"
   ]
  },
  {
   "cell_type": "code",
   "execution_count": 39,
   "metadata": {},
   "outputs": [
    {
     "data": {
      "text/plain": "session_position                     int64\nsession_length                       int64\nsession_id                          object\ntrack_id_clean                      object\nskip_1                                bool\nskip_2                                bool\nskip_3                                bool\nnot_skipped                           bool\nhist_user_behavior_is_shuffle         bool\npremium                               bool\ncontext_type                        object\nhist_user_behavior_reason_start     object\nhist_user_behavior_reason_end       object\nmode_major                           uint8\nmode_minor                           uint8\n0                                  float64\n1                                  float64\n2                                  float64\ndtype: object"
     },
     "execution_count": 39,
     "metadata": {},
     "output_type": "execute_result"
    }
   ],
   "source": [
    "data.dtypes"
   ]
  },
  {
   "cell_type": "code",
   "execution_count": 40,
   "metadata": {},
   "outputs": [],
   "source": [
    "# Correlation Between PCs and Skip_2\n",
    "# Transform bool to int and apply one-out-of-k encoding\n",
    "data['skip_1'] = data['skip_1'].astype(float)\n",
    "data['skip_2'] = data['skip_2'].astype(float)\n",
    "data['skip_3'] = data['skip_3'].astype(float)\n",
    "data['not_skipped'] = data['not_skipped'].astype(float) \n",
    "data['hist_user_behavior_is_shuffle'] = data['hist_user_behavior_is_shuffle'].astype(float) \n",
    "data['premium'] = data['premium'].astype(float)\n",
    "data = pd.get_dummies(data=data, columns=['context_type','hist_user_behavior_reason_start','hist_user_behavior_reason_end'])"
   ]
  },
  {
   "cell_type": "code",
   "execution_count": 41,
   "metadata": {},
   "outputs": [
    {
     "data": {
      "text/plain": "session_position                              0.040010\nsession_length                                0.078193\nskip_1                                        0.824751\nskip_2                                        1.000000\nskip_3                                        0.762141\nnot_skipped                                  -0.731088\nhist_user_behavior_is_shuffle                 0.048836\npremium                                      -0.016049\nmode_major                                   -0.011581\nmode_minor                                    0.011581\n0                                            -0.015195\n1                                            -0.002205\n2                                            -0.076196\ncontext_type_catalog                         -0.065949\ncontext_type_charts                           0.009218\ncontext_type_editorial_playlist              -0.009359\ncontext_type_personalized_playlist           -0.017446\ncontext_type_radio                            0.027753\ncontext_type_user_collection                  0.047917\nhist_user_behavior_reason_start_appload      -0.012526\nhist_user_behavior_reason_start_backbtn       0.097735\nhist_user_behavior_reason_start_clickrow     -0.094677\nhist_user_behavior_reason_start_endplay      -0.002560\nhist_user_behavior_reason_start_fwdbtn        0.472379\nhist_user_behavior_reason_start_playbtn      -0.002026\nhist_user_behavior_reason_start_remote       -0.004331\nhist_user_behavior_reason_start_trackdone    -0.493171\nhist_user_behavior_reason_start_trackerror   -0.001314\nhist_user_behavior_reason_end_backbtn         0.223093\nhist_user_behavior_reason_end_clickrow        0.006670\nhist_user_behavior_reason_end_endplay         0.037386\nhist_user_behavior_reason_end_fwdbtn          0.568416\nhist_user_behavior_reason_end_logout         -0.026427\nhist_user_behavior_reason_end_remote         -0.005111\nhist_user_behavior_reason_end_trackdone      -0.743031\nName: skip_2, dtype: float64"
     },
     "execution_count": 41,
     "metadata": {},
     "output_type": "execute_result"
    }
   ],
   "source": [
    "corr_matrix = data.corr()\n",
    "corr_matrix['skip_2']"
   ]
  },
  {
   "cell_type": "markdown",
   "metadata": {},
   "source": [
    "## Train/Test with PCA"
   ]
  },
  {
   "cell_type": "code",
   "execution_count": 42,
   "metadata": {},
   "outputs": [],
   "source": [
    "def split_sessions(data, perc_in=0.6):\n",
    "    \"\"\" Split interactions into train and test sessions. \"\"\"\n",
    "    sessions = data['session_id'].unique()\n",
    "    amt_in = int(perc_in * len(sessions))\n",
    "    sessions_in = np.random.choice(sessions, amt_in, replace=False)\n",
    "    sessions_out = np.array(list(set(sessions) - set(sessions_in)))\n",
    "    indexed_data = data.set_index('session_id')\n",
    "    data_in = indexed_data.loc[sessions_in]\n",
    "    data_out = indexed_data.loc[sessions_out]\n",
    "    return data_in, data_out"
   ]
  },
  {
   "cell_type": "code",
   "execution_count": 43,
   "metadata": {},
   "outputs": [
    {
     "name": "stdout",
     "output_type": "stream",
     "text": [
      "100839 67041\n"
     ]
    }
   ],
   "source": [
    "train, val = split_sessions(data, 0.6)\n",
    "print(len(train), len(val))"
   ]
  },
  {
   "cell_type": "code",
   "execution_count": 44,
   "metadata": {},
   "outputs": [],
   "source": [
    "def stack_sessions(df):\n",
    "    \"\"\"\n",
    "    Turn matrix representation into vector by stacking the listen events together (as columns) \n",
    "    For example:\n",
    "    session_id session_position feature1 feature2\n",
    "    a          1                ~        ~\n",
    "    a          2                ~        ~\n",
    "    b          1                ~        ~\n",
    "    b          2                ~        ~\n",
    "    b          3                ~        ~\n",
    "    \n",
    "    Turns into:\n",
    "    session_id 1_feature1 1_feature2 2_feature1 2_feature2 3_feature1 3_feature2\n",
    "    a          ~          ~          ~          ~          Nan        Nan\n",
    "    b          ~          ~          ~          ~          ~          ~\n",
    "    \"\"\"\n",
    "    columns = list(df.columns)\n",
    "    columns.remove('session_id')\n",
    "    columns.remove('session_position')\n",
    "    sessions = df.pivot(index='session_id', columns='session_position', values=columns)\n",
    "    return sessions"
   ]
  },
  {
   "cell_type": "code",
   "execution_count": 45,
   "metadata": {},
   "outputs": [],
   "source": [
    "# Columns to drop from the second part of the session, because this information is not available for prediction.\n",
    "# Note that you could still use this information for learning embeddings etc.\n",
    "drop_cols = list(data.columns)\n",
    "drop_cols.remove('session_id')\n",
    "drop_cols.remove('session_position')\n",
    "drop_cols.remove('track_id_clean')"
   ]
  },
  {
   "cell_type": "code",
   "execution_count": 46,
   "metadata": {},
   "outputs": [],
   "source": [
    "def split_df(df):\n",
    "    \"\"\"\n",
    "    Split df in data and labels part. First half of session is stacked and joined to each song in the second half of the session.\n",
    "    Listening information is removed from second half, as it will not be available for prediction.\n",
    "    \"\"\"\n",
    "    # Get sessions for SPOS<10 & reset index: old index added as col, new index added\n",
    "    first = df.loc[df['session_position']*2 <= df['session_length']].reset_index().drop(columns=['session_length'])\n",
    "    # Get sessions for SPOS>10 & reset index. \n",
    "    second = df.loc[df['session_position']*2 > df['session_length']].reset_index()\n",
    "    # skip_2 is ground truth\n",
    "    truth = second['skip_2']\n",
    "    # Note: if you would print head; some sessions are smaller than 20 so SPOS can be < 10\n",
    "    # print(second.head())\n",
    "    # Note: track_id_clean has been dropped way before already\n",
    "    second.drop(columns=drop_cols, inplace=True)\n",
    "    first_stacked = stack_sessions(first)\n",
    "    \n",
    "    data = second.join(first_stacked, how='left', on='session_id')\n",
    "    return data, truth"
   ]
  },
  {
   "cell_type": "code",
   "execution_count": 47,
   "metadata": {},
   "outputs": [
    {
     "name": "stderr",
     "output_type": "stream",
     "text": [
      "/Users/jenselin/miniconda3/envs/Tensorflow/lib/python3.7/site-packages/pandas/core/reshape/merge.py:643: UserWarning: merging between different levels can give an unintended result (1 levels on the left,2 on the right)\n",
      "  warnings.warn(msg, UserWarning)\n",
      "/Users/jenselin/miniconda3/envs/Tensorflow/lib/python3.7/site-packages/pandas/core/reshape/merge.py:643: UserWarning: merging between different levels can give an unintended result (1 levels on the left,2 on the right)\n",
      "  warnings.warn(msg, UserWarning)\n"
     ]
    }
   ],
   "source": [
    "# Wrangle the train and validation sets in the right format.\n",
    "train_data, train_labels = split_df(train)\n",
    "val_data, val_labels = split_df(val)"
   ]
  },
  {
   "cell_type": "code",
   "execution_count": 48,
   "metadata": {},
   "outputs": [],
   "source": [
    "train_data.drop(columns=[('track_id_clean', 1), ('track_id_clean', 2), ('track_id_clean', 3), ('track_id_clean', 4), ('track_id_clean', 5), ('track_id_clean', 6), ('track_id_clean', 7), ('track_id_clean', 8), ('track_id_clean', 9), ('track_id_clean', 10)], inplace=True)\n",
    "val_data.drop(columns=[('track_id_clean', 1), ('track_id_clean', 2), ('track_id_clean', 3), ('track_id_clean', 4), ('track_id_clean', 5), ('track_id_clean', 6), ('track_id_clean', 7), ('track_id_clean', 8), ('track_id_clean', 9), ('track_id_clean', 10)], inplace=True)"
   ]
  },
  {
   "cell_type": "code",
   "execution_count": 49,
   "metadata": {},
   "outputs": [],
   "source": [
    "val_data.drop(columns=['track_id_clean'], inplace=True)\n",
    "train_data.drop(columns=['track_id_clean'], inplace=True)"
   ]
  },
  {
   "cell_type": "code",
   "execution_count": 50,
   "metadata": {},
   "outputs": [
    {
     "name": "stdout",
     "output_type": "stream",
     "text": [
      "CPU times: user 2.96 s, sys: 723 ms, total: 3.69 s\n",
      "Wall time: 3.73 s\n"
     ]
    }
   ],
   "source": [
    "%%time\n",
    "from sklearn.impute import SimpleImputer\n",
    "\n",
    "# Fill in NaN values with mean of column. This choice *should* depend on your decision of classifier and feature encoding. Not every approach has the same assumptions about the data.\n",
    "imp = SimpleImputer(missing_values=np.nan, strategy='mean')\n",
    "train_data_imp = imp.fit_transform(train_data.drop(columns=['session_id']))\n",
    "val_data_imp = imp.transform(val_data.drop(columns=['session_id']))"
   ]
  },
  {
   "cell_type": "code",
   "execution_count": 51,
   "metadata": {},
   "outputs": [
    {
     "data": {
      "text/plain": "   session_position  session_length                              session_id  \\\n0                 1              20  0_00006f66-33e5-4de7-a324-2d18e439fc1e   \n1                 2              20  0_00006f66-33e5-4de7-a324-2d18e439fc1e   \n2                 3              20  0_00006f66-33e5-4de7-a324-2d18e439fc1e   \n3                 4              20  0_00006f66-33e5-4de7-a324-2d18e439fc1e   \n4                 5              20  0_00006f66-33e5-4de7-a324-2d18e439fc1e   \n\n                           track_id_clean  skip_1  skip_2  skip_3  \\\n0  t_0479f24c-27d2-46d6-a00c-7ec928f2b539     0.0     0.0     0.0   \n1  t_9099cd7b-c238-47b7-9381-f23f2c1d1043     0.0     0.0     0.0   \n2  t_fc5df5ba-5396-49a7-8b29-35d0d28249e0     0.0     0.0     0.0   \n3  t_23cff8d6-d874-4b20-83dc-94e450e8aa20     0.0     0.0     0.0   \n4  t_64f3743c-f624-46bb-a579-0f3f9a07a123     0.0     0.0     0.0   \n\n   not_skipped  hist_user_behavior_is_shuffle  premium  mode_major  \\\n0          1.0                            1.0      1.0           1   \n1          1.0                            1.0      1.0           0   \n2          1.0                            1.0      1.0           1   \n3          1.0                            1.0      1.0           1   \n4          1.0                            1.0      1.0           1   \n\n   mode_minor         0         1         2  context_type_catalog  \\\n0           0 -0.084801 -0.642602  0.181692                     0   \n1           1 -2.704207 -1.271917 -0.857436                     0   \n2           0 -0.591955 -0.671749 -0.928603                     0   \n3           0 -1.466513  1.423567 -0.763585                     0   \n4           0 -3.138003 -0.399707 -0.431176                     0   \n\n   context_type_charts  context_type_editorial_playlist  \\\n0                    0                                1   \n1                    0                                1   \n2                    0                                1   \n3                    0                                1   \n4                    0                                1   \n\n   context_type_personalized_playlist  context_type_radio  \\\n0                                   0                   0   \n1                                   0                   0   \n2                                   0                   0   \n3                                   0                   0   \n4                                   0                   0   \n\n   context_type_user_collection  hist_user_behavior_reason_start_appload  \\\n0                             0                                        0   \n1                             0                                        0   \n2                             0                                        0   \n3                             0                                        0   \n4                             0                                        0   \n\n   hist_user_behavior_reason_start_backbtn  \\\n0                                        0   \n1                                        0   \n2                                        0   \n3                                        0   \n4                                        0   \n\n   hist_user_behavior_reason_start_clickrow  \\\n0                                         0   \n1                                         0   \n2                                         0   \n3                                         0   \n4                                         0   \n\n   hist_user_behavior_reason_start_endplay  \\\n0                                        0   \n1                                        0   \n2                                        0   \n3                                        0   \n4                                        0   \n\n   hist_user_behavior_reason_start_fwdbtn  \\\n0                                       0   \n1                                       0   \n2                                       0   \n3                                       0   \n4                                       0   \n\n   hist_user_behavior_reason_start_playbtn  \\\n0                                        0   \n1                                        0   \n2                                        0   \n3                                        0   \n4                                        0   \n\n   hist_user_behavior_reason_start_remote  \\\n0                                       0   \n1                                       0   \n2                                       0   \n3                                       0   \n4                                       0   \n\n   hist_user_behavior_reason_start_trackdone  \\\n0                                          1   \n1                                          1   \n2                                          1   \n3                                          1   \n4                                          1   \n\n   hist_user_behavior_reason_start_trackerror  \\\n0                                           0   \n1                                           0   \n2                                           0   \n3                                           0   \n4                                           0   \n\n   hist_user_behavior_reason_end_backbtn  \\\n0                                      0   \n1                                      0   \n2                                      0   \n3                                      0   \n4                                      0   \n\n   hist_user_behavior_reason_end_clickrow  \\\n0                                       0   \n1                                       0   \n2                                       0   \n3                                       0   \n4                                       0   \n\n   hist_user_behavior_reason_end_endplay  \\\n0                                      0   \n1                                      0   \n2                                      0   \n3                                      0   \n4                                      0   \n\n   hist_user_behavior_reason_end_fwdbtn  hist_user_behavior_reason_end_logout  \\\n0                                     0                                     0   \n1                                     0                                     0   \n2                                     0                                     0   \n3                                     0                                     0   \n4                                     0                                     0   \n\n   hist_user_behavior_reason_end_remote  \\\n0                                     0   \n1                                     0   \n2                                     0   \n3                                     0   \n4                                     0   \n\n   hist_user_behavior_reason_end_trackdone  \n0                                        1  \n1                                        1  \n2                                        1  \n3                                        1  \n4                                        1  ",
      "text/html": "<div>\n<style scoped>\n    .dataframe tbody tr th:only-of-type {\n        vertical-align: middle;\n    }\n\n    .dataframe tbody tr th {\n        vertical-align: top;\n    }\n\n    .dataframe thead th {\n        text-align: right;\n    }\n</style>\n<table border=\"1\" class=\"dataframe\">\n  <thead>\n    <tr style=\"text-align: right;\">\n      <th></th>\n      <th>session_position</th>\n      <th>session_length</th>\n      <th>session_id</th>\n      <th>track_id_clean</th>\n      <th>skip_1</th>\n      <th>skip_2</th>\n      <th>skip_3</th>\n      <th>not_skipped</th>\n      <th>hist_user_behavior_is_shuffle</th>\n      <th>premium</th>\n      <th>mode_major</th>\n      <th>mode_minor</th>\n      <th>0</th>\n      <th>1</th>\n      <th>2</th>\n      <th>context_type_catalog</th>\n      <th>context_type_charts</th>\n      <th>context_type_editorial_playlist</th>\n      <th>context_type_personalized_playlist</th>\n      <th>context_type_radio</th>\n      <th>context_type_user_collection</th>\n      <th>hist_user_behavior_reason_start_appload</th>\n      <th>hist_user_behavior_reason_start_backbtn</th>\n      <th>hist_user_behavior_reason_start_clickrow</th>\n      <th>hist_user_behavior_reason_start_endplay</th>\n      <th>hist_user_behavior_reason_start_fwdbtn</th>\n      <th>hist_user_behavior_reason_start_playbtn</th>\n      <th>hist_user_behavior_reason_start_remote</th>\n      <th>hist_user_behavior_reason_start_trackdone</th>\n      <th>hist_user_behavior_reason_start_trackerror</th>\n      <th>hist_user_behavior_reason_end_backbtn</th>\n      <th>hist_user_behavior_reason_end_clickrow</th>\n      <th>hist_user_behavior_reason_end_endplay</th>\n      <th>hist_user_behavior_reason_end_fwdbtn</th>\n      <th>hist_user_behavior_reason_end_logout</th>\n      <th>hist_user_behavior_reason_end_remote</th>\n      <th>hist_user_behavior_reason_end_trackdone</th>\n    </tr>\n  </thead>\n  <tbody>\n    <tr>\n      <th>0</th>\n      <td>1</td>\n      <td>20</td>\n      <td>0_00006f66-33e5-4de7-a324-2d18e439fc1e</td>\n      <td>t_0479f24c-27d2-46d6-a00c-7ec928f2b539</td>\n      <td>0.0</td>\n      <td>0.0</td>\n      <td>0.0</td>\n      <td>1.0</td>\n      <td>1.0</td>\n      <td>1.0</td>\n      <td>1</td>\n      <td>0</td>\n      <td>-0.084801</td>\n      <td>-0.642602</td>\n      <td>0.181692</td>\n      <td>0</td>\n      <td>0</td>\n      <td>1</td>\n      <td>0</td>\n      <td>0</td>\n      <td>0</td>\n      <td>0</td>\n      <td>0</td>\n      <td>0</td>\n      <td>0</td>\n      <td>0</td>\n      <td>0</td>\n      <td>0</td>\n      <td>1</td>\n      <td>0</td>\n      <td>0</td>\n      <td>0</td>\n      <td>0</td>\n      <td>0</td>\n      <td>0</td>\n      <td>0</td>\n      <td>1</td>\n    </tr>\n    <tr>\n      <th>1</th>\n      <td>2</td>\n      <td>20</td>\n      <td>0_00006f66-33e5-4de7-a324-2d18e439fc1e</td>\n      <td>t_9099cd7b-c238-47b7-9381-f23f2c1d1043</td>\n      <td>0.0</td>\n      <td>0.0</td>\n      <td>0.0</td>\n      <td>1.0</td>\n      <td>1.0</td>\n      <td>1.0</td>\n      <td>0</td>\n      <td>1</td>\n      <td>-2.704207</td>\n      <td>-1.271917</td>\n      <td>-0.857436</td>\n      <td>0</td>\n      <td>0</td>\n      <td>1</td>\n      <td>0</td>\n      <td>0</td>\n      <td>0</td>\n      <td>0</td>\n      <td>0</td>\n      <td>0</td>\n      <td>0</td>\n      <td>0</td>\n      <td>0</td>\n      <td>0</td>\n      <td>1</td>\n      <td>0</td>\n      <td>0</td>\n      <td>0</td>\n      <td>0</td>\n      <td>0</td>\n      <td>0</td>\n      <td>0</td>\n      <td>1</td>\n    </tr>\n    <tr>\n      <th>2</th>\n      <td>3</td>\n      <td>20</td>\n      <td>0_00006f66-33e5-4de7-a324-2d18e439fc1e</td>\n      <td>t_fc5df5ba-5396-49a7-8b29-35d0d28249e0</td>\n      <td>0.0</td>\n      <td>0.0</td>\n      <td>0.0</td>\n      <td>1.0</td>\n      <td>1.0</td>\n      <td>1.0</td>\n      <td>1</td>\n      <td>0</td>\n      <td>-0.591955</td>\n      <td>-0.671749</td>\n      <td>-0.928603</td>\n      <td>0</td>\n      <td>0</td>\n      <td>1</td>\n      <td>0</td>\n      <td>0</td>\n      <td>0</td>\n      <td>0</td>\n      <td>0</td>\n      <td>0</td>\n      <td>0</td>\n      <td>0</td>\n      <td>0</td>\n      <td>0</td>\n      <td>1</td>\n      <td>0</td>\n      <td>0</td>\n      <td>0</td>\n      <td>0</td>\n      <td>0</td>\n      <td>0</td>\n      <td>0</td>\n      <td>1</td>\n    </tr>\n    <tr>\n      <th>3</th>\n      <td>4</td>\n      <td>20</td>\n      <td>0_00006f66-33e5-4de7-a324-2d18e439fc1e</td>\n      <td>t_23cff8d6-d874-4b20-83dc-94e450e8aa20</td>\n      <td>0.0</td>\n      <td>0.0</td>\n      <td>0.0</td>\n      <td>1.0</td>\n      <td>1.0</td>\n      <td>1.0</td>\n      <td>1</td>\n      <td>0</td>\n      <td>-1.466513</td>\n      <td>1.423567</td>\n      <td>-0.763585</td>\n      <td>0</td>\n      <td>0</td>\n      <td>1</td>\n      <td>0</td>\n      <td>0</td>\n      <td>0</td>\n      <td>0</td>\n      <td>0</td>\n      <td>0</td>\n      <td>0</td>\n      <td>0</td>\n      <td>0</td>\n      <td>0</td>\n      <td>1</td>\n      <td>0</td>\n      <td>0</td>\n      <td>0</td>\n      <td>0</td>\n      <td>0</td>\n      <td>0</td>\n      <td>0</td>\n      <td>1</td>\n    </tr>\n    <tr>\n      <th>4</th>\n      <td>5</td>\n      <td>20</td>\n      <td>0_00006f66-33e5-4de7-a324-2d18e439fc1e</td>\n      <td>t_64f3743c-f624-46bb-a579-0f3f9a07a123</td>\n      <td>0.0</td>\n      <td>0.0</td>\n      <td>0.0</td>\n      <td>1.0</td>\n      <td>1.0</td>\n      <td>1.0</td>\n      <td>1</td>\n      <td>0</td>\n      <td>-3.138003</td>\n      <td>-0.399707</td>\n      <td>-0.431176</td>\n      <td>0</td>\n      <td>0</td>\n      <td>1</td>\n      <td>0</td>\n      <td>0</td>\n      <td>0</td>\n      <td>0</td>\n      <td>0</td>\n      <td>0</td>\n      <td>0</td>\n      <td>0</td>\n      <td>0</td>\n      <td>0</td>\n      <td>1</td>\n      <td>0</td>\n      <td>0</td>\n      <td>0</td>\n      <td>0</td>\n      <td>0</td>\n      <td>0</td>\n      <td>0</td>\n      <td>1</td>\n    </tr>\n  </tbody>\n</table>\n</div>"
     },
     "execution_count": 51,
     "metadata": {},
     "output_type": "execute_result"
    }
   ],
   "source": [
    "data.head()"
   ]
  },
  {
   "cell_type": "code",
   "execution_count": 52,
   "metadata": {},
   "outputs": [
    {
     "name": "stdout",
     "output_type": "stream",
     "text": [
      "train matrix shape: (51136, 332)\n",
      "labels shape: (51136,)\n"
     ]
    }
   ],
   "source": [
    "# Print samples to learn from and features per sample.\n",
    "print(\"train matrix shape:\", train_data.shape)\n",
    "print(\"labels shape:\", train_labels.shape)"
   ]
  },
  {
   "cell_type": "code",
   "execution_count": 53,
   "metadata": {},
   "outputs": [
    {
     "name": "stdout",
     "output_type": "stream",
     "text": [
      "CPU times: user 31.1 s, sys: 269 ms, total: 31.4 s\n",
      "Wall time: 8.08 s\n"
     ]
    },
    {
     "name": "stderr",
     "output_type": "stream",
     "text": [
      "/Users/jenselin/miniconda3/envs/Tensorflow/lib/python3.7/site-packages/sklearn/linear_model/_logistic.py:764: ConvergenceWarning: lbfgs failed to converge (status=1):\n",
      "STOP: TOTAL NO. of ITERATIONS REACHED LIMIT.\n",
      "\n",
      "Increase the number of iterations (max_iter) or scale the data as shown in:\n",
      "    https://scikit-learn.org/stable/modules/preprocessing.html\n",
      "Please also refer to the documentation for alternative solver options:\n",
      "    https://scikit-learn.org/stable/modules/linear_model.html#logistic-regression\n",
      "  extra_warning_msg=_LOGISTIC_SOLVER_CONVERGENCE_MSG)\n"
     ]
    },
    {
     "data": {
      "text/plain": "LogisticRegression(max_iter=500)"
     },
     "execution_count": 53,
     "metadata": {},
     "output_type": "execute_result"
    }
   ],
   "source": [
    "%%time\n",
    "from sklearn.linear_model import LogisticRegression\n",
    "from sklearn.ensemble import RandomForestClassifier\n",
    "\n",
    "# Train a classifier (default parameters are not optimal here!)\n",
    "model = LogisticRegression(max_iter=500)\n",
    "model.fit(train_data_imp, train_labels.values)"
   ]
  },
  {
   "cell_type": "code",
   "execution_count": 54,
   "metadata": {},
   "outputs": [
    {
     "name": "stdout",
     "output_type": "stream",
     "text": [
      "CPU times: user 44.9 ms, sys: 2.67 ms, total: 47.6 ms\n",
      "Wall time: 15.1 ms\n"
     ]
    }
   ],
   "source": [
    "%%time\n",
    "# Predict validation data\n",
    "predictions = model.predict(val_data_imp)"
   ]
  },
  {
   "cell_type": "code",
   "execution_count": 55,
   "metadata": {},
   "outputs": [
    {
     "name": "stderr",
     "output_type": "stream",
     "text": [
      "/Users/jenselin/miniconda3/envs/Tensorflow/lib/python3.7/site-packages/pandas/core/indexing.py:1596: SettingWithCopyWarning: \n",
      "A value is trying to be set on a copy of a slice from a DataFrame.\n",
      "Try using .loc[row_indexer,col_indexer] = value instead\n",
      "\n",
      "See the caveats in the documentation: https://pandas.pydata.org/pandas-docs/stable/user_guide/indexing.html#returning-a-view-versus-a-copy\n",
      "  self.obj[key] = _infer_fill_value(value)\n",
      "/Users/jenselin/miniconda3/envs/Tensorflow/lib/python3.7/site-packages/pandas/core/indexing.py:1745: SettingWithCopyWarning: \n",
      "A value is trying to be set on a copy of a slice from a DataFrame.\n",
      "Try using .loc[row_indexer,col_indexer] = value instead\n",
      "\n",
      "See the caveats in the documentation: https://pandas.pydata.org/pandas-docs/stable/user_guide/indexing.html#returning-a-view-versus-a-copy\n",
      "  isetter(ilocs[0], value)\n"
     ]
    }
   ],
   "source": [
    "# Convert from flattened format back to session based format (for calculation of MAA metric).\n",
    "prediction_df = val_data[['session_id']]\n",
    "prediction_df.loc[:, 'prediction'] = predictions\n",
    "predictions_list = prediction_df.groupby('session_id')['prediction'].apply(list)\n",
    "\n",
    "labels_df = val_data[['session_id']]\n",
    "labels_df.loc[:, 'truth'] = val_labels\n",
    "truth_list = labels_df.groupby('session_id')['truth'].apply(list)"
   ]
  },
  {
   "cell_type": "code",
   "execution_count": 56,
   "metadata": {},
   "outputs": [],
   "source": [
    "def evaluate(submission, groundtruth):\n",
    "    \"\"\" Calculate metrics for prediction and ground thruth lists (source: starter kit) \"\"\"\n",
    "    ap_sum = 0.0\n",
    "    first_pred_acc_sum = 0.0\n",
    "    counter = 0\n",
    "    for sub, tru in zip(submission, groundtruth):\n",
    "        if len(sub) != len(tru):\n",
    "            raise Exception('Line {} should contain {} predictions, but instead contains '\n",
    "                            '{}'.format(counter+1,len(tru),len(sub)))\n",
    "        try:\n",
    "            ap_sum += ave_pre(sub,tru)\n",
    "        except ValueError as e:\n",
    "            raise ValueError('Invalid prediction in line {}, should be 0 or 1'.format(counter))\n",
    "        first_pred_acc_sum += sub[0] == tru[0]\n",
    "        counter+=1\n",
    "    ap = ap_sum/counter\n",
    "    first_pred_acc = first_pred_acc_sum/counter\n",
    "    return ap,first_pred_acc"
   ]
  },
  {
   "cell_type": "code",
   "execution_count": 57,
   "metadata": {},
   "outputs": [],
   "source": [
    "def ave_pre(submission,groundtruth):\n",
    "    \"\"\" Calculate average accuracy (which is the same as average precision in this context) \"\"\"\n",
    "    s = 0.0\n",
    "    t = 0.0\n",
    "    c = 1.0\n",
    "    for x, y in zip(submission, groundtruth):\n",
    "        if x != 0 and x != 1:\n",
    "            raise ValueError()\n",
    "        if x==y:\n",
    "            s += 1.0\n",
    "            t += s / c\n",
    "        c += 1\n",
    "    return t/len(groundtruth)"
   ]
  },
  {
   "cell_type": "code",
   "execution_count": 58,
   "metadata": {},
   "outputs": [],
   "source": [
    "ap,first_pred_acc = evaluate(predictions_list, truth_list)"
   ]
  },
  {
   "cell_type": "code",
   "execution_count": 59,
   "metadata": {
    "pycharm": {
     "name": "#%%\n"
    }
   },
   "outputs": [
    {
     "name": "stdout",
     "output_type": "stream",
     "text": [
      "average precision: 0.5470488880228044\n",
      "first prediction accuracy: 0.73\n"
     ]
    }
   ],
   "source": [
    "print('average precision: {}'.format(ap))\n",
    "print('first prediction accuracy: {}'.format(first_pred_acc))"
   ]
  }
 ],
 "metadata": {
  "kernelspec": {
   "display_name": "Python 3",
   "language": "python",
   "name": "python3"
  },
  "language_info": {
   "codemirror_mode": {
    "name": "ipython",
    "version": 3
   },
   "file_extension": ".py",
   "mimetype": "text/x-python",
   "name": "python",
   "nbconvert_exporter": "python",
   "pygments_lexer": "ipython3",
   "version": "3.7.3"
  }
 },
 "nbformat": 4,
 "nbformat_minor": 4
}